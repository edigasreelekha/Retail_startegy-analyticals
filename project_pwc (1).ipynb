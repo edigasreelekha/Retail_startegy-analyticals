{
 "cells": [
  {
   "cell_type": "code",
   "execution_count": 65,
   "id": "5f9f9677-6146-4b3f-bcdf-571bc2f18ab8",
   "metadata": {},
   "outputs": [],
   "source": [
    "import pandas as pd\n",
    "import matplotlib.pyplot as plt\n",
    "import numpy as np"
   ]
  },
  {
   "cell_type": "code",
   "execution_count": 13,
   "id": "e9ec5751-72ae-473e-841e-5b499d28e14d",
   "metadata": {},
   "outputs": [],
   "source": [
    "customer_data = pd.read_excel(\"OneDrive/Documents/purchase_behaviour.xlsx\")"
   ]
  },
  {
   "cell_type": "code",
   "execution_count": 14,
   "id": "0b3e2ef7-8713-45c5-b5ce-3fb44807c257",
   "metadata": {
    "scrolled": true
   },
   "outputs": [
    {
     "data": {
      "text/plain": [
       "<bound method NDFrame.head of        LYLTY_CARD_NBR               LIFESTAGE PREMIUM_CUSTOMER\n",
       "0                1000   YOUNG SINGLES/COUPLES          Premium\n",
       "1                1002   YOUNG SINGLES/COUPLES       Mainstream\n",
       "2                1003          YOUNG FAMILIES           Budget\n",
       "3                1004   OLDER SINGLES/COUPLES       Mainstream\n",
       "4                1005  MIDAGE SINGLES/COUPLES       Mainstream\n",
       "...               ...                     ...              ...\n",
       "72632         2370651  MIDAGE SINGLES/COUPLES       Mainstream\n",
       "72633         2370701          YOUNG FAMILIES       Mainstream\n",
       "72634         2370751          YOUNG FAMILIES          Premium\n",
       "72635         2370961          OLDER FAMILIES           Budget\n",
       "72636         2373711   YOUNG SINGLES/COUPLES       Mainstream\n",
       "\n",
       "[72637 rows x 3 columns]>"
      ]
     },
     "execution_count": 14,
     "metadata": {},
     "output_type": "execute_result"
    }
   ],
   "source": [
    "customer_data.head"
   ]
  },
  {
   "cell_type": "code",
   "execution_count": 15,
   "id": "13326051-beec-49ba-ae09-33b3edfaf376",
   "metadata": {},
   "outputs": [],
   "source": [
    "transaction_data = pd.read_excel(\"OneDrive/Documents/transaction_data.xlsx\")"
   ]
  },
  {
   "cell_type": "code",
   "execution_count": 16,
   "id": "75b0f4b7-54cb-40a2-b316-dcb56bd7f56d",
   "metadata": {},
   "outputs": [
    {
     "data": {
      "text/html": [
       "<div>\n",
       "<style scoped>\n",
       "    .dataframe tbody tr th:only-of-type {\n",
       "        vertical-align: middle;\n",
       "    }\n",
       "\n",
       "    .dataframe tbody tr th {\n",
       "        vertical-align: top;\n",
       "    }\n",
       "\n",
       "    .dataframe thead th {\n",
       "        text-align: right;\n",
       "    }\n",
       "</style>\n",
       "<table border=\"1\" class=\"dataframe\">\n",
       "  <thead>\n",
       "    <tr style=\"text-align: right;\">\n",
       "      <th></th>\n",
       "      <th>DATE</th>\n",
       "      <th>STORE_NBR</th>\n",
       "      <th>LYLTY_CARD_NBR</th>\n",
       "      <th>TXN_ID</th>\n",
       "      <th>PROD_NBR</th>\n",
       "      <th>PROD_NAME</th>\n",
       "      <th>PROD_QTY</th>\n",
       "      <th>TOT_SALES</th>\n",
       "    </tr>\n",
       "  </thead>\n",
       "  <tbody>\n",
       "    <tr>\n",
       "      <th>0</th>\n",
       "      <td>43390</td>\n",
       "      <td>1</td>\n",
       "      <td>1000</td>\n",
       "      <td>1</td>\n",
       "      <td>5</td>\n",
       "      <td>Natural Chip        Compny SeaSalt175g</td>\n",
       "      <td>2</td>\n",
       "      <td>6.0</td>\n",
       "    </tr>\n",
       "    <tr>\n",
       "      <th>1</th>\n",
       "      <td>43599</td>\n",
       "      <td>1</td>\n",
       "      <td>1307</td>\n",
       "      <td>348</td>\n",
       "      <td>66</td>\n",
       "      <td>CCs Nacho Cheese    175g</td>\n",
       "      <td>3</td>\n",
       "      <td>6.3</td>\n",
       "    </tr>\n",
       "    <tr>\n",
       "      <th>2</th>\n",
       "      <td>43605</td>\n",
       "      <td>1</td>\n",
       "      <td>1343</td>\n",
       "      <td>383</td>\n",
       "      <td>61</td>\n",
       "      <td>Smiths Crinkle Cut  Chips Chicken 170g</td>\n",
       "      <td>2</td>\n",
       "      <td>2.9</td>\n",
       "    </tr>\n",
       "    <tr>\n",
       "      <th>3</th>\n",
       "      <td>43329</td>\n",
       "      <td>2</td>\n",
       "      <td>2373</td>\n",
       "      <td>974</td>\n",
       "      <td>69</td>\n",
       "      <td>Smiths Chip Thinly  S/Cream&amp;Onion 175g</td>\n",
       "      <td>5</td>\n",
       "      <td>15.0</td>\n",
       "    </tr>\n",
       "    <tr>\n",
       "      <th>4</th>\n",
       "      <td>43330</td>\n",
       "      <td>2</td>\n",
       "      <td>2426</td>\n",
       "      <td>1038</td>\n",
       "      <td>108</td>\n",
       "      <td>Kettle Tortilla ChpsHny&amp;Jlpno Chili 150g</td>\n",
       "      <td>3</td>\n",
       "      <td>13.8</td>\n",
       "    </tr>\n",
       "  </tbody>\n",
       "</table>\n",
       "</div>"
      ],
      "text/plain": [
       "    DATE  STORE_NBR  LYLTY_CARD_NBR  TXN_ID  PROD_NBR  \\\n",
       "0  43390          1            1000       1         5   \n",
       "1  43599          1            1307     348        66   \n",
       "2  43605          1            1343     383        61   \n",
       "3  43329          2            2373     974        69   \n",
       "4  43330          2            2426    1038       108   \n",
       "\n",
       "                                  PROD_NAME  PROD_QTY  TOT_SALES  \n",
       "0    Natural Chip        Compny SeaSalt175g         2        6.0  \n",
       "1                  CCs Nacho Cheese    175g         3        6.3  \n",
       "2    Smiths Crinkle Cut  Chips Chicken 170g         2        2.9  \n",
       "3    Smiths Chip Thinly  S/Cream&Onion 175g         5       15.0  \n",
       "4  Kettle Tortilla ChpsHny&Jlpno Chili 150g         3       13.8  "
      ]
     },
     "execution_count": 16,
     "metadata": {},
     "output_type": "execute_result"
    }
   ],
   "source": [
    "transaction_data.head(5)"
   ]
  },
  {
   "cell_type": "code",
   "execution_count": 19,
   "id": "d084e5d4-06ec-414e-a0aa-85b89cdf4958",
   "metadata": {},
   "outputs": [
    {
     "data": {
      "text/plain": [
       "DATE                int64\n",
       "STORE_NBR           int64\n",
       "LYLTY_CARD_NBR      int64\n",
       "TXN_ID              int64\n",
       "PROD_NBR            int64\n",
       "PROD_NAME          object\n",
       "PROD_QTY            int64\n",
       "TOT_SALES         float64\n",
       "dtype: object"
      ]
     },
     "execution_count": 19,
     "metadata": {},
     "output_type": "execute_result"
    }
   ],
   "source": [
    "transaction_data.dtypes"
   ]
  },
  {
   "cell_type": "raw",
   "id": "f6350cc5-03f5-4454-9607-7bdfc8e31377",
   "metadata": {},
   "source": [
    "# Convert DATE column to a date format\n",
    "transaction_data['DATE'] = pd.to_datetime(transaction_data['DATE'], format='%d/%m/%Y')"
   ]
  },
  {
   "cell_type": "code",
   "execution_count": 25,
   "id": "062e6ae6-dc86-4d6d-9ebb-578bce581fd8",
   "metadata": {},
   "outputs": [
    {
     "data": {
      "text/plain": [
       "DATE              datetime64[ns]\n",
       "STORE_NBR                  int64\n",
       "LYLTY_CARD_NBR             int64\n",
       "TXN_ID                     int64\n",
       "PROD_NBR                   int64\n",
       "PROD_NAME                 object\n",
       "PROD_QTY                   int64\n",
       "TOT_SALES                float64\n",
       "dtype: object"
      ]
     },
     "execution_count": 25,
     "metadata": {},
     "output_type": "execute_result"
    }
   ],
   "source": [
    "transaction_data.dtypes"
   ]
  },
  {
   "cell_type": "code",
   "execution_count": 27,
   "id": "3740de3d-a568-435b-ae6c-23187e528758",
   "metadata": {},
   "outputs": [
    {
     "name": "stdout",
     "output_type": "stream",
     "text": [
      "PROD_NAME\n",
      "Kettle Mozzarella   Basil & Pesto 175g      3304\n",
      "Kettle Tortilla ChpsHny&Jlpno Chili 150g    3296\n",
      "Cobs Popd Swt/Chlli &Sr/Cream Chips 110g    3269\n",
      "Tyrrells Crisps     Ched & Chives 165g      3268\n",
      "Cobs Popd Sea Salt  Chips 110g              3265\n",
      "                                            ... \n",
      "RRD Pc Sea Salt     165g                    1431\n",
      "Woolworths Medium   Salsa 300g              1430\n",
      "NCC Sour Cream &    Garden Chives 175g      1419\n",
      "French Fries Potato Chips 175g              1418\n",
      "WW Crinkle Cut      Original 175g           1410\n",
      "Name: count, Length: 114, dtype: int64\n"
     ]
    }
   ],
   "source": [
    "# Examine PROD_NAME\n",
    "print(transaction_data['PROD_NAME'].value_counts())"
   ]
  },
  {
   "cell_type": "code",
   "execution_count": 31,
   "id": "0773ba51-cf9a-4ec1-8d9c-21f582971285",
   "metadata": {},
   "outputs": [
    {
     "name": "stdout",
     "output_type": "stream",
     "text": [
      "175g        60561\n",
      "Chips       49770\n",
      "150g        41633\n",
      "Kettle      41288\n",
      "&           35565\n",
      "            ...  \n",
      "Sunbites     1432\n",
      "Pc           1431\n",
      "NCC          1419\n",
      "Garden       1419\n",
      "Fries        1418\n",
      "Name: count, Length: 220, dtype: int64\n"
     ]
    }
   ],
   "source": [
    "#Examine the words in PROD_NAME to see if there are any incorrect entries such as products that are not chips\n",
    "product_words = transaction_data['PROD_NAME'].str.split(expand=True).stack().value_counts()\n",
    "print(product_words)"
   ]
  },
  {
   "cell_type": "code",
   "execution_count": 48,
   "id": "4690cd2f-5229-4a3a-8122-2e40ba1188bc",
   "metadata": {},
   "outputs": [],
   "source": [
    "# Remove salsa products\n",
    "transaction_data = transaction_data[~transaction_data['PROD_NAME'].str.lower().str.contains('salsa')]"
   ]
  },
  {
   "cell_type": "code",
   "execution_count": 49,
   "id": "1a89b019-76cc-49c6-9414-6fc83e2d682d",
   "metadata": {},
   "outputs": [
    {
     "data": {
      "text/html": [
       "<div>\n",
       "<style scoped>\n",
       "    .dataframe tbody tr th:only-of-type {\n",
       "        vertical-align: middle;\n",
       "    }\n",
       "\n",
       "    .dataframe tbody tr th {\n",
       "        vertical-align: top;\n",
       "    }\n",
       "\n",
       "    .dataframe thead th {\n",
       "        text-align: right;\n",
       "    }\n",
       "</style>\n",
       "<table border=\"1\" class=\"dataframe\">\n",
       "  <thead>\n",
       "    <tr style=\"text-align: right;\">\n",
       "      <th></th>\n",
       "      <th>DATE</th>\n",
       "      <th>STORE_NBR</th>\n",
       "      <th>LYLTY_CARD_NBR</th>\n",
       "      <th>TXN_ID</th>\n",
       "      <th>PROD_NBR</th>\n",
       "      <th>PROD_QTY</th>\n",
       "      <th>TOT_SALES</th>\n",
       "    </tr>\n",
       "  </thead>\n",
       "  <tbody>\n",
       "    <tr>\n",
       "      <th>count</th>\n",
       "      <td>246742</td>\n",
       "      <td>246742.000000</td>\n",
       "      <td>2.467420e+05</td>\n",
       "      <td>2.467420e+05</td>\n",
       "      <td>246742.000000</td>\n",
       "      <td>246742.000000</td>\n",
       "      <td>246742.000000</td>\n",
       "    </tr>\n",
       "    <tr>\n",
       "      <th>mean</th>\n",
       "      <td>2018-12-30 01:19:01.211467520</td>\n",
       "      <td>135.051098</td>\n",
       "      <td>1.355310e+05</td>\n",
       "      <td>1.351311e+05</td>\n",
       "      <td>56.351789</td>\n",
       "      <td>1.908062</td>\n",
       "      <td>7.321322</td>\n",
       "    </tr>\n",
       "    <tr>\n",
       "      <th>min</th>\n",
       "      <td>2018-07-01 00:00:00</td>\n",
       "      <td>1.000000</td>\n",
       "      <td>1.000000e+03</td>\n",
       "      <td>1.000000e+00</td>\n",
       "      <td>1.000000</td>\n",
       "      <td>1.000000</td>\n",
       "      <td>1.700000</td>\n",
       "    </tr>\n",
       "    <tr>\n",
       "      <th>25%</th>\n",
       "      <td>2018-09-30 00:00:00</td>\n",
       "      <td>70.000000</td>\n",
       "      <td>7.001500e+04</td>\n",
       "      <td>6.756925e+04</td>\n",
       "      <td>26.000000</td>\n",
       "      <td>2.000000</td>\n",
       "      <td>5.800000</td>\n",
       "    </tr>\n",
       "    <tr>\n",
       "      <th>50%</th>\n",
       "      <td>2018-12-30 00:00:00</td>\n",
       "      <td>130.000000</td>\n",
       "      <td>1.303670e+05</td>\n",
       "      <td>1.351830e+05</td>\n",
       "      <td>53.000000</td>\n",
       "      <td>2.000000</td>\n",
       "      <td>7.400000</td>\n",
       "    </tr>\n",
       "    <tr>\n",
       "      <th>75%</th>\n",
       "      <td>2019-03-31 00:00:00</td>\n",
       "      <td>203.000000</td>\n",
       "      <td>2.030840e+05</td>\n",
       "      <td>2.026538e+05</td>\n",
       "      <td>87.000000</td>\n",
       "      <td>2.000000</td>\n",
       "      <td>8.800000</td>\n",
       "    </tr>\n",
       "    <tr>\n",
       "      <th>max</th>\n",
       "      <td>2019-06-30 00:00:00</td>\n",
       "      <td>272.000000</td>\n",
       "      <td>2.373711e+06</td>\n",
       "      <td>2.415841e+06</td>\n",
       "      <td>114.000000</td>\n",
       "      <td>200.000000</td>\n",
       "      <td>650.000000</td>\n",
       "    </tr>\n",
       "    <tr>\n",
       "      <th>std</th>\n",
       "      <td>NaN</td>\n",
       "      <td>76.787096</td>\n",
       "      <td>8.071528e+04</td>\n",
       "      <td>7.814772e+04</td>\n",
       "      <td>33.695428</td>\n",
       "      <td>0.659831</td>\n",
       "      <td>3.077828</td>\n",
       "    </tr>\n",
       "  </tbody>\n",
       "</table>\n",
       "</div>"
      ],
      "text/plain": [
       "                                DATE      STORE_NBR  LYLTY_CARD_NBR  \\\n",
       "count                         246742  246742.000000    2.467420e+05   \n",
       "mean   2018-12-30 01:19:01.211467520     135.051098    1.355310e+05   \n",
       "min              2018-07-01 00:00:00       1.000000    1.000000e+03   \n",
       "25%              2018-09-30 00:00:00      70.000000    7.001500e+04   \n",
       "50%              2018-12-30 00:00:00     130.000000    1.303670e+05   \n",
       "75%              2019-03-31 00:00:00     203.000000    2.030840e+05   \n",
       "max              2019-06-30 00:00:00     272.000000    2.373711e+06   \n",
       "std                              NaN      76.787096    8.071528e+04   \n",
       "\n",
       "             TXN_ID       PROD_NBR       PROD_QTY      TOT_SALES  \n",
       "count  2.467420e+05  246742.000000  246742.000000  246742.000000  \n",
       "mean   1.351311e+05      56.351789       1.908062       7.321322  \n",
       "min    1.000000e+00       1.000000       1.000000       1.700000  \n",
       "25%    6.756925e+04      26.000000       2.000000       5.800000  \n",
       "50%    1.351830e+05      53.000000       2.000000       7.400000  \n",
       "75%    2.026538e+05      87.000000       2.000000       8.800000  \n",
       "max    2.415841e+06     114.000000     200.000000     650.000000  \n",
       "std    7.814772e+04      33.695428       0.659831       3.077828  "
      ]
     },
     "execution_count": 49,
     "metadata": {},
     "output_type": "execute_result"
    }
   ],
   "source": [
    " #Summarise the data to check for nulls and possible outliers\n",
    "transaction_data.describe()"
   ]
  },
  {
   "cell_type": "code",
   "execution_count": 51,
   "id": "62fc4e98-f09c-42fc-a971-6e42569c9d25",
   "metadata": {},
   "outputs": [
    {
     "data": {
      "text/html": [
       "<div>\n",
       "<style scoped>\n",
       "    .dataframe tbody tr th:only-of-type {\n",
       "        vertical-align: middle;\n",
       "    }\n",
       "\n",
       "    .dataframe tbody tr th {\n",
       "        vertical-align: top;\n",
       "    }\n",
       "\n",
       "    .dataframe thead th {\n",
       "        text-align: right;\n",
       "    }\n",
       "</style>\n",
       "<table border=\"1\" class=\"dataframe\">\n",
       "  <thead>\n",
       "    <tr style=\"text-align: right;\">\n",
       "      <th></th>\n",
       "      <th>DATE</th>\n",
       "      <th>STORE_NBR</th>\n",
       "      <th>LYLTY_CARD_NBR</th>\n",
       "      <th>TXN_ID</th>\n",
       "      <th>PROD_NBR</th>\n",
       "      <th>PROD_NAME</th>\n",
       "      <th>PROD_QTY</th>\n",
       "      <th>TOT_SALES</th>\n",
       "    </tr>\n",
       "  </thead>\n",
       "  <tbody>\n",
       "    <tr>\n",
       "      <th>69762</th>\n",
       "      <td>2018-08-19</td>\n",
       "      <td>226</td>\n",
       "      <td>226000</td>\n",
       "      <td>226201</td>\n",
       "      <td>4</td>\n",
       "      <td>Dorito Corn Chp     Supreme 380g</td>\n",
       "      <td>200</td>\n",
       "      <td>650.0</td>\n",
       "    </tr>\n",
       "    <tr>\n",
       "      <th>69763</th>\n",
       "      <td>2019-05-20</td>\n",
       "      <td>226</td>\n",
       "      <td>226000</td>\n",
       "      <td>226210</td>\n",
       "      <td>4</td>\n",
       "      <td>Dorito Corn Chp     Supreme 380g</td>\n",
       "      <td>200</td>\n",
       "      <td>650.0</td>\n",
       "    </tr>\n",
       "  </tbody>\n",
       "</table>\n",
       "</div>"
      ],
      "text/plain": [
       "            DATE  STORE_NBR  LYLTY_CARD_NBR  TXN_ID  PROD_NBR  \\\n",
       "69762 2018-08-19        226          226000  226201         4   \n",
       "69763 2019-05-20        226          226000  226210         4   \n",
       "\n",
       "                              PROD_NAME  PROD_QTY  TOT_SALES  \n",
       "69762  Dorito Corn Chp     Supreme 380g       200      650.0  \n",
       "69763  Dorito Corn Chp     Supreme 380g       200      650.0  "
      ]
     },
     "execution_count": 51,
     "metadata": {},
     "output_type": "execute_result"
    }
   ],
   "source": [
    "# Filter the dataset to find the outlier\n",
    "transaction_data [transaction_data ['PROD_QTY'] == 200]"
   ]
  },
  {
   "cell_type": "code",
   "execution_count": 52,
   "id": "68417146-3c18-4a98-91af-1ea3c2e4eea5",
   "metadata": {},
   "outputs": [
    {
     "data": {
      "text/html": [
       "<div>\n",
       "<style scoped>\n",
       "    .dataframe tbody tr th:only-of-type {\n",
       "        vertical-align: middle;\n",
       "    }\n",
       "\n",
       "    .dataframe tbody tr th {\n",
       "        vertical-align: top;\n",
       "    }\n",
       "\n",
       "    .dataframe thead th {\n",
       "        text-align: right;\n",
       "    }\n",
       "</style>\n",
       "<table border=\"1\" class=\"dataframe\">\n",
       "  <thead>\n",
       "    <tr style=\"text-align: right;\">\n",
       "      <th></th>\n",
       "      <th>DATE</th>\n",
       "      <th>STORE_NBR</th>\n",
       "      <th>LYLTY_CARD_NBR</th>\n",
       "      <th>TXN_ID</th>\n",
       "      <th>PROD_NBR</th>\n",
       "      <th>PROD_NAME</th>\n",
       "      <th>PROD_QTY</th>\n",
       "      <th>TOT_SALES</th>\n",
       "    </tr>\n",
       "  </thead>\n",
       "  <tbody>\n",
       "    <tr>\n",
       "      <th>69762</th>\n",
       "      <td>2018-08-19</td>\n",
       "      <td>226</td>\n",
       "      <td>226000</td>\n",
       "      <td>226201</td>\n",
       "      <td>4</td>\n",
       "      <td>Dorito Corn Chp     Supreme 380g</td>\n",
       "      <td>200</td>\n",
       "      <td>650.0</td>\n",
       "    </tr>\n",
       "    <tr>\n",
       "      <th>69763</th>\n",
       "      <td>2019-05-20</td>\n",
       "      <td>226</td>\n",
       "      <td>226000</td>\n",
       "      <td>226210</td>\n",
       "      <td>4</td>\n",
       "      <td>Dorito Corn Chp     Supreme 380g</td>\n",
       "      <td>200</td>\n",
       "      <td>650.0</td>\n",
       "    </tr>\n",
       "  </tbody>\n",
       "</table>\n",
       "</div>"
      ],
      "text/plain": [
       "            DATE  STORE_NBR  LYLTY_CARD_NBR  TXN_ID  PROD_NBR  \\\n",
       "69762 2018-08-19        226          226000  226201         4   \n",
       "69763 2019-05-20        226          226000  226210         4   \n",
       "\n",
       "                              PROD_NAME  PROD_QTY  TOT_SALES  \n",
       "69762  Dorito Corn Chp     Supreme 380g       200      650.0  \n",
       "69763  Dorito Corn Chp     Supreme 380g       200      650.0  "
      ]
     },
     "execution_count": 52,
     "metadata": {},
     "output_type": "execute_result"
    }
   ],
   "source": [
    "# Let's see if the customer has had other transactions\n",
    "\n",
    "transaction_data [transaction_data ['LYLTY_CARD_NBR'] ==226000 ]"
   ]
  },
  {
   "cell_type": "code",
   "execution_count": 53,
   "id": "1acb5255-8acc-4d6e-b97c-22c2adc25570",
   "metadata": {},
   "outputs": [
    {
     "data": {
      "text/html": [
       "<div>\n",
       "<style scoped>\n",
       "    .dataframe tbody tr th:only-of-type {\n",
       "        vertical-align: middle;\n",
       "    }\n",
       "\n",
       "    .dataframe tbody tr th {\n",
       "        vertical-align: top;\n",
       "    }\n",
       "\n",
       "    .dataframe thead th {\n",
       "        text-align: right;\n",
       "    }\n",
       "</style>\n",
       "<table border=\"1\" class=\"dataframe\">\n",
       "  <thead>\n",
       "    <tr style=\"text-align: right;\">\n",
       "      <th></th>\n",
       "      <th>DATE</th>\n",
       "      <th>STORE_NBR</th>\n",
       "      <th>LYLTY_CARD_NBR</th>\n",
       "      <th>TXN_ID</th>\n",
       "      <th>PROD_NBR</th>\n",
       "      <th>PROD_NAME</th>\n",
       "      <th>PROD_QTY</th>\n",
       "      <th>TOT_SALES</th>\n",
       "    </tr>\n",
       "  </thead>\n",
       "  <tbody>\n",
       "    <tr>\n",
       "      <th>0</th>\n",
       "      <td>2018-10-17</td>\n",
       "      <td>1</td>\n",
       "      <td>1000</td>\n",
       "      <td>1</td>\n",
       "      <td>5</td>\n",
       "      <td>Natural Chip        Compny SeaSalt175g</td>\n",
       "      <td>2</td>\n",
       "      <td>6.0</td>\n",
       "    </tr>\n",
       "    <tr>\n",
       "      <th>1</th>\n",
       "      <td>2019-05-14</td>\n",
       "      <td>1</td>\n",
       "      <td>1307</td>\n",
       "      <td>348</td>\n",
       "      <td>66</td>\n",
       "      <td>CCs Nacho Cheese    175g</td>\n",
       "      <td>3</td>\n",
       "      <td>6.3</td>\n",
       "    </tr>\n",
       "    <tr>\n",
       "      <th>2</th>\n",
       "      <td>2019-05-20</td>\n",
       "      <td>1</td>\n",
       "      <td>1343</td>\n",
       "      <td>383</td>\n",
       "      <td>61</td>\n",
       "      <td>Smiths Crinkle Cut  Chips Chicken 170g</td>\n",
       "      <td>2</td>\n",
       "      <td>2.9</td>\n",
       "    </tr>\n",
       "    <tr>\n",
       "      <th>3</th>\n",
       "      <td>2018-08-17</td>\n",
       "      <td>2</td>\n",
       "      <td>2373</td>\n",
       "      <td>974</td>\n",
       "      <td>69</td>\n",
       "      <td>Smiths Chip Thinly  S/Cream&amp;Onion 175g</td>\n",
       "      <td>5</td>\n",
       "      <td>15.0</td>\n",
       "    </tr>\n",
       "    <tr>\n",
       "      <th>4</th>\n",
       "      <td>2018-08-18</td>\n",
       "      <td>2</td>\n",
       "      <td>2426</td>\n",
       "      <td>1038</td>\n",
       "      <td>108</td>\n",
       "      <td>Kettle Tortilla ChpsHny&amp;Jlpno Chili 150g</td>\n",
       "      <td>3</td>\n",
       "      <td>13.8</td>\n",
       "    </tr>\n",
       "    <tr>\n",
       "      <th>...</th>\n",
       "      <td>...</td>\n",
       "      <td>...</td>\n",
       "      <td>...</td>\n",
       "      <td>...</td>\n",
       "      <td>...</td>\n",
       "      <td>...</td>\n",
       "      <td>...</td>\n",
       "      <td>...</td>\n",
       "    </tr>\n",
       "    <tr>\n",
       "      <th>264831</th>\n",
       "      <td>2019-03-09</td>\n",
       "      <td>272</td>\n",
       "      <td>272319</td>\n",
       "      <td>270088</td>\n",
       "      <td>89</td>\n",
       "      <td>Kettle Sweet Chilli And Sour Cream 175g</td>\n",
       "      <td>2</td>\n",
       "      <td>10.8</td>\n",
       "    </tr>\n",
       "    <tr>\n",
       "      <th>264832</th>\n",
       "      <td>2018-08-13</td>\n",
       "      <td>272</td>\n",
       "      <td>272358</td>\n",
       "      <td>270154</td>\n",
       "      <td>74</td>\n",
       "      <td>Tostitos Splash Of  Lime 175g</td>\n",
       "      <td>1</td>\n",
       "      <td>4.4</td>\n",
       "    </tr>\n",
       "    <tr>\n",
       "      <th>264833</th>\n",
       "      <td>2018-11-06</td>\n",
       "      <td>272</td>\n",
       "      <td>272379</td>\n",
       "      <td>270187</td>\n",
       "      <td>51</td>\n",
       "      <td>Doritos Mexicana    170g</td>\n",
       "      <td>2</td>\n",
       "      <td>8.8</td>\n",
       "    </tr>\n",
       "    <tr>\n",
       "      <th>264834</th>\n",
       "      <td>2018-12-27</td>\n",
       "      <td>272</td>\n",
       "      <td>272379</td>\n",
       "      <td>270188</td>\n",
       "      <td>42</td>\n",
       "      <td>Doritos Corn Chip Mexican Jalapeno 150g</td>\n",
       "      <td>2</td>\n",
       "      <td>7.8</td>\n",
       "    </tr>\n",
       "    <tr>\n",
       "      <th>264835</th>\n",
       "      <td>2018-09-22</td>\n",
       "      <td>272</td>\n",
       "      <td>272380</td>\n",
       "      <td>270189</td>\n",
       "      <td>74</td>\n",
       "      <td>Tostitos Splash Of  Lime 175g</td>\n",
       "      <td>2</td>\n",
       "      <td>8.8</td>\n",
       "    </tr>\n",
       "  </tbody>\n",
       "</table>\n",
       "<p>246740 rows × 8 columns</p>\n",
       "</div>"
      ],
      "text/plain": [
       "             DATE  STORE_NBR  LYLTY_CARD_NBR  TXN_ID  PROD_NBR  \\\n",
       "0      2018-10-17          1            1000       1         5   \n",
       "1      2019-05-14          1            1307     348        66   \n",
       "2      2019-05-20          1            1343     383        61   \n",
       "3      2018-08-17          2            2373     974        69   \n",
       "4      2018-08-18          2            2426    1038       108   \n",
       "...           ...        ...             ...     ...       ...   \n",
       "264831 2019-03-09        272          272319  270088        89   \n",
       "264832 2018-08-13        272          272358  270154        74   \n",
       "264833 2018-11-06        272          272379  270187        51   \n",
       "264834 2018-12-27        272          272379  270188        42   \n",
       "264835 2018-09-22        272          272380  270189        74   \n",
       "\n",
       "                                       PROD_NAME  PROD_QTY  TOT_SALES  \n",
       "0         Natural Chip        Compny SeaSalt175g         2        6.0  \n",
       "1                       CCs Nacho Cheese    175g         3        6.3  \n",
       "2         Smiths Crinkle Cut  Chips Chicken 170g         2        2.9  \n",
       "3         Smiths Chip Thinly  S/Cream&Onion 175g         5       15.0  \n",
       "4       Kettle Tortilla ChpsHny&Jlpno Chili 150g         3       13.8  \n",
       "...                                          ...       ...        ...  \n",
       "264831   Kettle Sweet Chilli And Sour Cream 175g         2       10.8  \n",
       "264832             Tostitos Splash Of  Lime 175g         1        4.4  \n",
       "264833                  Doritos Mexicana    170g         2        8.8  \n",
       "264834   Doritos Corn Chip Mexican Jalapeno 150g         2        7.8  \n",
       "264835             Tostitos Splash Of  Lime 175g         2        8.8  \n",
       "\n",
       "[246740 rows x 8 columns]"
      ]
     },
     "execution_count": 53,
     "metadata": {},
     "output_type": "execute_result"
    }
   ],
   "source": [
    "# Filter out the customer based on the Loyalty card number\n",
    "\n",
    "transaction_data [transaction_data ['LYLTY_CARD_NBR'] !=226000 ]"
   ]
  },
  {
   "cell_type": "code",
   "execution_count": 54,
   "id": "d55e827a-81be-4304-b99f-59df50497f80",
   "metadata": {},
   "outputs": [
    {
     "data": {
      "text/html": [
       "<div>\n",
       "<style scoped>\n",
       "    .dataframe tbody tr th:only-of-type {\n",
       "        vertical-align: middle;\n",
       "    }\n",
       "\n",
       "    .dataframe tbody tr th {\n",
       "        vertical-align: top;\n",
       "    }\n",
       "\n",
       "    .dataframe thead th {\n",
       "        text-align: right;\n",
       "    }\n",
       "</style>\n",
       "<table border=\"1\" class=\"dataframe\">\n",
       "  <thead>\n",
       "    <tr style=\"text-align: right;\">\n",
       "      <th></th>\n",
       "      <th>DATE</th>\n",
       "      <th>STORE_NBR</th>\n",
       "      <th>LYLTY_CARD_NBR</th>\n",
       "      <th>TXN_ID</th>\n",
       "      <th>PROD_NBR</th>\n",
       "      <th>PROD_QTY</th>\n",
       "      <th>TOT_SALES</th>\n",
       "    </tr>\n",
       "  </thead>\n",
       "  <tbody>\n",
       "    <tr>\n",
       "      <th>count</th>\n",
       "      <td>246742</td>\n",
       "      <td>246742.000000</td>\n",
       "      <td>2.467420e+05</td>\n",
       "      <td>2.467420e+05</td>\n",
       "      <td>246742.000000</td>\n",
       "      <td>246742.000000</td>\n",
       "      <td>246742.000000</td>\n",
       "    </tr>\n",
       "    <tr>\n",
       "      <th>mean</th>\n",
       "      <td>2018-12-30 01:19:01.211467520</td>\n",
       "      <td>135.051098</td>\n",
       "      <td>1.355310e+05</td>\n",
       "      <td>1.351311e+05</td>\n",
       "      <td>56.351789</td>\n",
       "      <td>1.908062</td>\n",
       "      <td>7.321322</td>\n",
       "    </tr>\n",
       "    <tr>\n",
       "      <th>min</th>\n",
       "      <td>2018-07-01 00:00:00</td>\n",
       "      <td>1.000000</td>\n",
       "      <td>1.000000e+03</td>\n",
       "      <td>1.000000e+00</td>\n",
       "      <td>1.000000</td>\n",
       "      <td>1.000000</td>\n",
       "      <td>1.700000</td>\n",
       "    </tr>\n",
       "    <tr>\n",
       "      <th>25%</th>\n",
       "      <td>2018-09-30 00:00:00</td>\n",
       "      <td>70.000000</td>\n",
       "      <td>7.001500e+04</td>\n",
       "      <td>6.756925e+04</td>\n",
       "      <td>26.000000</td>\n",
       "      <td>2.000000</td>\n",
       "      <td>5.800000</td>\n",
       "    </tr>\n",
       "    <tr>\n",
       "      <th>50%</th>\n",
       "      <td>2018-12-30 00:00:00</td>\n",
       "      <td>130.000000</td>\n",
       "      <td>1.303670e+05</td>\n",
       "      <td>1.351830e+05</td>\n",
       "      <td>53.000000</td>\n",
       "      <td>2.000000</td>\n",
       "      <td>7.400000</td>\n",
       "    </tr>\n",
       "    <tr>\n",
       "      <th>75%</th>\n",
       "      <td>2019-03-31 00:00:00</td>\n",
       "      <td>203.000000</td>\n",
       "      <td>2.030840e+05</td>\n",
       "      <td>2.026538e+05</td>\n",
       "      <td>87.000000</td>\n",
       "      <td>2.000000</td>\n",
       "      <td>8.800000</td>\n",
       "    </tr>\n",
       "    <tr>\n",
       "      <th>max</th>\n",
       "      <td>2019-06-30 00:00:00</td>\n",
       "      <td>272.000000</td>\n",
       "      <td>2.373711e+06</td>\n",
       "      <td>2.415841e+06</td>\n",
       "      <td>114.000000</td>\n",
       "      <td>200.000000</td>\n",
       "      <td>650.000000</td>\n",
       "    </tr>\n",
       "    <tr>\n",
       "      <th>std</th>\n",
       "      <td>NaN</td>\n",
       "      <td>76.787096</td>\n",
       "      <td>8.071528e+04</td>\n",
       "      <td>7.814772e+04</td>\n",
       "      <td>33.695428</td>\n",
       "      <td>0.659831</td>\n",
       "      <td>3.077828</td>\n",
       "    </tr>\n",
       "  </tbody>\n",
       "</table>\n",
       "</div>"
      ],
      "text/plain": [
       "                                DATE      STORE_NBR  LYLTY_CARD_NBR  \\\n",
       "count                         246742  246742.000000    2.467420e+05   \n",
       "mean   2018-12-30 01:19:01.211467520     135.051098    1.355310e+05   \n",
       "min              2018-07-01 00:00:00       1.000000    1.000000e+03   \n",
       "25%              2018-09-30 00:00:00      70.000000    7.001500e+04   \n",
       "50%              2018-12-30 00:00:00     130.000000    1.303670e+05   \n",
       "75%              2019-03-31 00:00:00     203.000000    2.030840e+05   \n",
       "max              2019-06-30 00:00:00     272.000000    2.373711e+06   \n",
       "std                              NaN      76.787096    8.071528e+04   \n",
       "\n",
       "             TXN_ID       PROD_NBR       PROD_QTY      TOT_SALES  \n",
       "count  2.467420e+05  246742.000000  246742.000000  246742.000000  \n",
       "mean   1.351311e+05      56.351789       1.908062       7.321322  \n",
       "min    1.000000e+00       1.000000       1.000000       1.700000  \n",
       "25%    6.756925e+04      26.000000       2.000000       5.800000  \n",
       "50%    1.351830e+05      53.000000       2.000000       7.400000  \n",
       "75%    2.026538e+05      87.000000       2.000000       8.800000  \n",
       "max    2.415841e+06     114.000000     200.000000     650.000000  \n",
       "std    7.814772e+04      33.695428       0.659831       3.077828  "
      ]
     },
     "execution_count": 54,
     "metadata": {},
     "output_type": "execute_result"
    }
   ],
   "source": [
    "# Re-examine transaction data\n",
    "transaction_data.describe()"
   ]
  },
  {
   "cell_type": "code",
   "execution_count": 60,
   "id": "44e4b081-87f1-489c-9238-c552ea7fe7cb",
   "metadata": {},
   "outputs": [],
   "source": [
    "# Count the number of transactions by date\n",
    "transaction_by_date = transaction_data.groupby ('DATE')['TXN_ID'].count() "
   ]
  },
  {
   "cell_type": "code",
   "execution_count": 58,
   "id": "ffa7e680-5a48-4429-a9ef-56ada6e319ea",
   "metadata": {},
   "outputs": [
    {
     "data": {
      "text/plain": [
       "DATE\n",
       "2018-07-01    663\n",
       "2018-07-02    650\n",
       "2018-07-03    674\n",
       "2018-07-04    669\n",
       "2018-07-05    660\n",
       "             ... \n",
       "2019-06-26    657\n",
       "2019-06-27    669\n",
       "2019-06-28    673\n",
       "2019-06-29    703\n",
       "2019-06-30    704\n",
       "Name: TXN_ID, Length: 364, dtype: int64"
      ]
     },
     "execution_count": 58,
     "metadata": {},
     "output_type": "execute_result"
    }
   ],
   "source": [
    "transaction_by_date"
   ]
  },
  {
   "cell_type": "code",
   "execution_count": 63,
   "id": "1bb91785-2b4d-4b5e-a3bc-c790ffa8e364",
   "metadata": {},
   "outputs": [],
   "source": [
    "# Create a sequence of dates and join this the count of transactions by date\n",
    "\n",
    "\n",
    "\n",
    "all_dates = pd.date_range(start='2018-07-01', end='2019-06-30')\n",
    "transaction_by_day = pd.merge(pd.DataFrame(all_dates, columns=['DATE']), pd.DataFrame(transaction_by_date), on='DATE', how='left')"
   ]
  },
  {
   "cell_type": "code",
   "execution_count": 68,
   "id": "44ab2df9-8dc4-464c-b33a-1451721cc000",
   "metadata": {},
   "outputs": [
    {
     "data": {
      "image/png": "[encoded data removed]",
      "text/plain": [
       "<Figure size 640x480 with 1 Axes>"
      ]
     },
     "metadata": {},
     "output_type": "display_data"
    }
   ],
   "source": [
    "# Plot transactions over time\n",
    "\n",
    "plt.plot(transaction_by_day['DATE'], transaction_by_day['TXN_ID'])\n",
    "plt.xlabel('Day')\n",
    "plt.ylabel('Number of transactions')\n",
    "plt.title('Transactions over time')\n",
    "plt.xticks(rotation=90)\n",
    "plt.show()"
   ]
  },
  {
   "cell_type": "code",
   "execution_count": 69,
   "id": "52c91f20-2197-471d-ae11-582ea5354fe6",
   "metadata": {},
   "outputs": [
    {
     "data": {
      "image/png": "[encoded data removed]",
      "text/plain": [
       "<Figure size 640x480 with 1 Axes>"
      ]
     },
     "metadata": {},
     "output_type": "display_data"
    }
   ],
   "source": [
    "# Filter to December and Look at individual days\n",
    "\n",
    "december_transactions = transaction_by_day[transaction_by_day['DATE'].dt.month == 12]\n",
    "plt.plot(december_transactions['DATE'], december_transactions['TXN_ID'])\n",
    "plt.xlabel('Day')\n",
    "plt.ylabel('Number of transactions')\n",
    "plt.title('Transactions over time')\n",
    "plt.xticks(rotation=90)\n",
    "plt.show()"
   ]
  },
  {
   "cell_type": "code",
   "execution_count": 71,
   "id": "4743a449-c157-4737-944c-a0a0cfa15222",
   "metadata": {},
   "outputs": [],
   "source": [
    "# to check Pack size\n",
    "transaction_data['PACK_SIZE'] = transaction_data['PROD_NAME'].str.extract(r'(\\d+)').astype(float)"
   ]
  },
  {
   "cell_type": "code",
   "execution_count": 72,
   "id": "89500dfd-6639-4f57-933d-7907a8b56930",
   "metadata": {},
   "outputs": [
    {
     "data": {
      "text/plain": [
       "PACK_SIZE\n",
       "70.0      1507\n",
       "90.0      3008\n",
       "110.0    22387\n",
       "125.0     1454\n",
       "134.0    25102\n",
       "135.0     3257\n",
       "150.0    40203\n",
       "160.0     2970\n",
       "165.0    15297\n",
       "170.0    19983\n",
       "175.0    66390\n",
       "180.0     1468\n",
       "190.0     2995\n",
       "200.0     4473\n",
       "210.0     6272\n",
       "220.0     1564\n",
       "250.0     3169\n",
       "270.0     6285\n",
       "330.0    12540\n",
       "380.0     6418\n",
       "Name: count, dtype: int64"
      ]
     },
     "execution_count": 72,
     "metadata": {},
     "output_type": "execute_result"
    }
   ],
   "source": [
    "# Let's check if the pack sizes look sensible\n",
    "transaction_data['PACK_SIZE'].value_counts().sort_index()"
   ]
  },
  {
   "cell_type": "code",
   "execution_count": 73,
   "id": "c9c13042-3483-48c7-99cf-de86227401be",
   "metadata": {},
   "outputs": [
    {
     "data": {
      "text/html": [
       "<div>\n",
       "<style scoped>\n",
       "    .dataframe tbody tr th:only-of-type {\n",
       "        vertical-align: middle;\n",
       "    }\n",
       "\n",
       "    .dataframe tbody tr th {\n",
       "        vertical-align: top;\n",
       "    }\n",
       "\n",
       "    .dataframe thead th {\n",
       "        text-align: right;\n",
       "    }\n",
       "</style>\n",
       "<table border=\"1\" class=\"dataframe\">\n",
       "  <thead>\n",
       "    <tr style=\"text-align: right;\">\n",
       "      <th></th>\n",
       "      <th>DATE</th>\n",
       "      <th>STORE_NBR</th>\n",
       "      <th>LYLTY_CARD_NBR</th>\n",
       "      <th>TXN_ID</th>\n",
       "      <th>PROD_NBR</th>\n",
       "      <th>PROD_NAME</th>\n",
       "      <th>PROD_QTY</th>\n",
       "      <th>TOT_SALES</th>\n",
       "      <th>PACK_SIZE</th>\n",
       "    </tr>\n",
       "  </thead>\n",
       "  <tbody>\n",
       "    <tr>\n",
       "      <th>0</th>\n",
       "      <td>2018-10-17</td>\n",
       "      <td>1</td>\n",
       "      <td>1000</td>\n",
       "      <td>1</td>\n",
       "      <td>5</td>\n",
       "      <td>Natural Chip        Compny SeaSalt175g</td>\n",
       "      <td>2</td>\n",
       "      <td>6.0</td>\n",
       "      <td>175.0</td>\n",
       "    </tr>\n",
       "    <tr>\n",
       "      <th>1</th>\n",
       "      <td>2019-05-14</td>\n",
       "      <td>1</td>\n",
       "      <td>1307</td>\n",
       "      <td>348</td>\n",
       "      <td>66</td>\n",
       "      <td>CCs Nacho Cheese    175g</td>\n",
       "      <td>3</td>\n",
       "      <td>6.3</td>\n",
       "      <td>175.0</td>\n",
       "    </tr>\n",
       "    <tr>\n",
       "      <th>2</th>\n",
       "      <td>2019-05-20</td>\n",
       "      <td>1</td>\n",
       "      <td>1343</td>\n",
       "      <td>383</td>\n",
       "      <td>61</td>\n",
       "      <td>Smiths Crinkle Cut  Chips Chicken 170g</td>\n",
       "      <td>2</td>\n",
       "      <td>2.9</td>\n",
       "      <td>170.0</td>\n",
       "    </tr>\n",
       "    <tr>\n",
       "      <th>3</th>\n",
       "      <td>2018-08-17</td>\n",
       "      <td>2</td>\n",
       "      <td>2373</td>\n",
       "      <td>974</td>\n",
       "      <td>69</td>\n",
       "      <td>Smiths Chip Thinly  S/Cream&amp;Onion 175g</td>\n",
       "      <td>5</td>\n",
       "      <td>15.0</td>\n",
       "      <td>175.0</td>\n",
       "    </tr>\n",
       "    <tr>\n",
       "      <th>4</th>\n",
       "      <td>2018-08-18</td>\n",
       "      <td>2</td>\n",
       "      <td>2426</td>\n",
       "      <td>1038</td>\n",
       "      <td>108</td>\n",
       "      <td>Kettle Tortilla ChpsHny&amp;Jlpno Chili 150g</td>\n",
       "      <td>3</td>\n",
       "      <td>13.8</td>\n",
       "      <td>150.0</td>\n",
       "    </tr>\n",
       "  </tbody>\n",
       "</table>\n",
       "</div>"
      ],
      "text/plain": [
       "        DATE  STORE_NBR  LYLTY_CARD_NBR  TXN_ID  PROD_NBR  \\\n",
       "0 2018-10-17          1            1000       1         5   \n",
       "1 2019-05-14          1            1307     348        66   \n",
       "2 2019-05-20          1            1343     383        61   \n",
       "3 2018-08-17          2            2373     974        69   \n",
       "4 2018-08-18          2            2426    1038       108   \n",
       "\n",
       "                                  PROD_NAME  PROD_QTY  TOT_SALES  PACK_SIZE  \n",
       "0    Natural Chip        Compny SeaSalt175g         2        6.0      175.0  \n",
       "1                  CCs Nacho Cheese    175g         3        6.3      175.0  \n",
       "2    Smiths Crinkle Cut  Chips Chicken 170g         2        2.9      170.0  \n",
       "3    Smiths Chip Thinly  S/Cream&Onion 175g         5       15.0      175.0  \n",
       "4  Kettle Tortilla ChpsHny&Jlpno Chili 150g         3       13.8      150.0  "
      ]
     },
     "execution_count": 73,
     "metadata": {},
     "output_type": "execute_result"
    }
   ],
   "source": [
    "# checking the output of the first few rows to see if we have indeed picked out pack size.\n",
    "transaction_data.head()"
   ]
  },
  {
   "cell_type": "code",
   "execution_count": 74,
   "id": "43e144ff-8ed5-4164-8b96-2a1265460c52",
   "metadata": {},
   "outputs": [
    {
     "data": {
      "image/png": "[encoded data removed]",
      "text/plain": [
       "<Figure size 640x480 with 1 Axes>"
      ]
     },
     "metadata": {},
     "output_type": "display_data"
    }
   ],
   "source": [
    "#  histogram of PACK_SIZE since we know that it is a categorical variable and not a continuous variable even though it is numeric.\n",
    "\n",
    "plt.hist(transaction_data['PACK_SIZE'])\n",
    "plt.xlabel('PACK_SIZE')\n",
    "plt.ylabel('Frequency')\n",
    "plt.title('Histogram of PACK_SIZE')\n",
    "plt.show()"
   ]
  },
  {
   "cell_type": "code",
   "execution_count": 75,
   "id": "de29689d-4b1e-4252-8f98-35d18a005d72",
   "metadata": {},
   "outputs": [],
   "source": [
    "# Let's look for Brands\n",
    "transaction_data['BRAND'] = transaction_data['PROD_NAME'].str.split().str[0].str.upper()"
   ]
  },
  {
   "cell_type": "code",
   "execution_count": 76,
   "id": "dc9bc53b-43d2-4dc5-9cf6-e4f004d738c9",
   "metadata": {},
   "outputs": [
    {
     "data": {
      "text/plain": [
       "BRAND\n",
       "KETTLE        41288\n",
       "SMITHS        27390\n",
       "PRINGLES      25102\n",
       "DORITOS       22041\n",
       "THINS         14075\n",
       "RRD           11894\n",
       "INFUZIONS     11057\n",
       "WW            10320\n",
       "COBS           9693\n",
       "TOSTITOS       9471\n",
       "TWISTIES       9454\n",
       "TYRRELLS       6442\n",
       "GRAIN          6272\n",
       "NATURAL        6050\n",
       "CHEEZELS       4603\n",
       "CCS            4551\n",
       "RED            4427\n",
       "DORITO         3185\n",
       "INFZNS         3144\n",
       "SMITH          2963\n",
       "CHEETOS        2927\n",
       "SNBTS          1576\n",
       "BURGER         1564\n",
       "WOOLWORTHS     1516\n",
       "GRNWVES        1468\n",
       "SUNBITES       1432\n",
       "NCC            1419\n",
       "FRENCH         1418\n",
       "Name: count, dtype: int64"
      ]
     },
     "execution_count": 76,
     "metadata": {},
     "output_type": "execute_result"
    }
   ],
   "source": [
    "# Checking brands\n",
    "\n",
    "transaction_data['BRAND'].value_counts()"
   ]
  },
  {
   "cell_type": "code",
   "execution_count": 77,
   "id": "d95fb777-9c2e-4c71-ac88-d84ff2f27b75",
   "metadata": {},
   "outputs": [],
   "source": [
    "# Repalcing  brand names \n",
    "\n",
    "transaction_data['BRAND'] = transaction_data['BRAND'].replace({'RED': 'RRD', 'SNBTS': 'SUNBITES', 'INFZNS': 'INFUZIONS', 'WW': 'WOOLWORTHS', 'SMITH': 'SMITHS', 'NCC': 'NATURAL', 'DORITO': 'DORITOS', 'GRAIN': 'GRNWVES'})"
   ]
  },
  {
   "cell_type": "code",
   "execution_count": 78,
   "id": "b21fa1ee-85b9-4393-8a37-8258c426c72c",
   "metadata": {},
   "outputs": [
    {
     "data": {
      "text/plain": [
       "BRAND\n",
       "KETTLE        41288\n",
       "SMITHS        30353\n",
       "DORITOS       25226\n",
       "PRINGLES      25102\n",
       "RRD           16321\n",
       "INFUZIONS     14201\n",
       "THINS         14075\n",
       "WOOLWORTHS    11836\n",
       "COBS           9693\n",
       "TOSTITOS       9471\n",
       "TWISTIES       9454\n",
       "GRNWVES        7740\n",
       "NATURAL        7469\n",
       "TYRRELLS       6442\n",
       "CHEEZELS       4603\n",
       "CCS            4551\n",
       "SUNBITES       3008\n",
       "CHEETOS        2927\n",
       "BURGER         1564\n",
       "FRENCH         1418\n",
       "Name: count, dtype: int64"
      ]
     },
     "execution_count": 78,
     "metadata": {},
     "output_type": "execute_result"
    }
   ],
   "source": [
    "# let's check the brand names again\n",
    "transaction_data['BRAND'].value_counts()"
   ]
  },
  {
   "cell_type": "code",
   "execution_count": 81,
   "id": "be06cfa4-74d6-4a2a-ad73-fda143ffed1a",
   "metadata": {},
   "outputs": [
    {
     "data": {
      "text/html": [
       "<div>\n",
       "<style scoped>\n",
       "    .dataframe tbody tr th:only-of-type {\n",
       "        vertical-align: middle;\n",
       "    }\n",
       "\n",
       "    .dataframe tbody tr th {\n",
       "        vertical-align: top;\n",
       "    }\n",
       "\n",
       "    .dataframe thead th {\n",
       "        text-align: right;\n",
       "    }\n",
       "</style>\n",
       "<table border=\"1\" class=\"dataframe\">\n",
       "  <thead>\n",
       "    <tr style=\"text-align: right;\">\n",
       "      <th></th>\n",
       "      <th>LYLTY_CARD_NBR</th>\n",
       "    </tr>\n",
       "  </thead>\n",
       "  <tbody>\n",
       "    <tr>\n",
       "      <th>count</th>\n",
       "      <td>7.263700e+04</td>\n",
       "    </tr>\n",
       "    <tr>\n",
       "      <th>mean</th>\n",
       "      <td>1.361859e+05</td>\n",
       "    </tr>\n",
       "    <tr>\n",
       "      <th>std</th>\n",
       "      <td>8.989293e+04</td>\n",
       "    </tr>\n",
       "    <tr>\n",
       "      <th>min</th>\n",
       "      <td>1.000000e+03</td>\n",
       "    </tr>\n",
       "    <tr>\n",
       "      <th>25%</th>\n",
       "      <td>6.620200e+04</td>\n",
       "    </tr>\n",
       "    <tr>\n",
       "      <th>50%</th>\n",
       "      <td>1.340400e+05</td>\n",
       "    </tr>\n",
       "    <tr>\n",
       "      <th>75%</th>\n",
       "      <td>2.033750e+05</td>\n",
       "    </tr>\n",
       "    <tr>\n",
       "      <th>max</th>\n",
       "      <td>2.373711e+06</td>\n",
       "    </tr>\n",
       "  </tbody>\n",
       "</table>\n",
       "</div>"
      ],
      "text/plain": [
       "       LYLTY_CARD_NBR\n",
       "count    7.263700e+04\n",
       "mean     1.361859e+05\n",
       "std      8.989293e+04\n",
       "min      1.000000e+03\n",
       "25%      6.620200e+04\n",
       "50%      1.340400e+05\n",
       "75%      2.033750e+05\n",
       "max      2.373711e+06"
      ]
     },
     "execution_count": 81,
     "metadata": {},
     "output_type": "execute_result"
    }
   ],
   "source": [
    "# Let's Examining customer data\n",
    "\n",
    "customer_data.head()\n",
    "customer_data.dtypes\n",
    "customer_data.describe()"
   ]
  },
  {
   "cell_type": "code",
   "execution_count": 83,
   "id": "aecac32d-665e-49f1-8c71-c9e7d8255048",
   "metadata": {},
   "outputs": [
    {
     "data": {
      "text/plain": [
       "PREMIUM_CUSTOMER\n",
       "Mainstream    29245\n",
       "Budget        24470\n",
       "Premium       18922\n",
       "Name: count, dtype: int64"
      ]
     },
     "execution_count": 83,
     "metadata": {},
     "output_type": "execute_result"
    }
   ],
   "source": [
    "#Examining the values of lifestage and premium_customer\n",
    "\n",
    "customer_data['LIFESTAGE'].value_counts()\n",
    "customer_data['PREMIUM_CUSTOMER'].value_counts()"
   ]
  },
  {
   "cell_type": "code",
   "execution_count": 84,
   "id": "3791f7a0-5b3b-4257-8b51-75a1965ecba3",
   "metadata": {},
   "outputs": [],
   "source": [
    "#  Merge transaction data to customer data\n",
    "data = pd.merge(transaction_data, customer_data, on='LYLTY_CARD_NBR', how='left')"
   ]
  },
  {
   "cell_type": "code",
   "execution_count": 85,
   "id": "d1ab4d06-6ea6-4ee0-8797-2a192e5548aa",
   "metadata": {},
   "outputs": [
    {
     "data": {
      "text/plain": [
       "DATE                0\n",
       "STORE_NBR           0\n",
       "LYLTY_CARD_NBR      0\n",
       "TXN_ID              0\n",
       "PROD_NBR            0\n",
       "PROD_NAME           0\n",
       "PROD_QTY            0\n",
       "TOT_SALES           0\n",
       "PACK_SIZE           0\n",
       "BRAND               0\n",
       "LIFESTAGE           0\n",
       "PREMIUM_CUSTOMER    0\n",
       "dtype: int64"
      ]
     },
     "execution_count": 85,
     "metadata": {},
     "output_type": "execute_result"
    }
   ],
   "source": [
    "#   Let's also check if some customers were not matched on by checking for nulls.\n",
    "data.isnull().sum()"
   ]
  },
  {
   "cell_type": "code",
   "execution_count": 86,
   "id": "82cfcc32-4375-485b-ba9a-ec5eeb407c3f",
   "metadata": {},
   "outputs": [],
   "source": [
    "#  Total sales by LIFESTAGE and PREMIUM_CUSTOMER\n",
    "\n",
    "sales = data.groupby(['LIFESTAGE', 'PREMIUM_CUSTOMER'])['TOT_SALES'].sum().reset_index()"
   ]
  },
  {
   "cell_type": "code",
   "execution_count": 87,
   "id": "c406ed38-3c11-4a71-bbf5-874f8429798a",
   "metadata": {},
   "outputs": [
    {
     "data": {
      "image/png": "[encoded data removed]",
      "text/plain": [
       "<Figure size 1000x500 with 1 Axes>"
      ]
     },
     "metadata": {},
     "output_type": "display_data"
    }
   ],
   "source": [
    "#  Create plot Total sales by lifestage and premium customer\n",
    "\n",
    "plt.figure(figsize=(10, 5))\n",
    "plt.bar(sales['LIFESTAGE'], sales['TOT_SALES'], color='skyblue')\n",
    "plt.xlabel('Lifestage')\n",
    "plt.ylabel('Total sales')\n",
    "plt.title('Total sales by lifestage and premium customer')\n",
    "plt.xticks(rotation=90)\n",
    "plt.show()"
   ]
  },
  {
   "cell_type": "code",
   "execution_count": 91,
   "id": "a712895e-ad62-4909-a138-b4ff73512add",
   "metadata": {},
   "outputs": [],
   "source": [
    "#Number of customers by LIFESTAGE and PREMIUM_CUSTOMER\n",
    "customers = data.groupby(['LIFESTAGE', 'PREMIUM_CUSTOMER'])['LYLTY_CARD_NBR'].nunique().reset_index()"
   ]
  },
  {
   "cell_type": "code",
   "execution_count": 92,
   "id": "29861cf5-e0e8-453c-a77f-2f600a2844bb",
   "metadata": {},
   "outputs": [
    {
     "data": {
      "image/png": "[encoded data removed]",
      "text/plain": [
       "<Figure size 1000x500 with 1 Axes>"
      ]
     },
     "metadata": {},
     "output_type": "display_data"
    }
   ],
   "source": [
    "#   Create plot Number of customers by lifestage and premium customer\n",
    "\n",
    "plt.figure(figsize=(10, 5))\n",
    "plt.bar(customers['LIFESTAGE'], customers['LYLTY_CARD_NBR'], color='skyblue')\n",
    "plt.xlabel('Lifestage')\n",
    "plt.ylabel('Number of customers')\n",
    "plt.title('Number of customers by lifestage and premium customer')\n",
    "plt.xticks(rotation=90)\n",
    "plt.show()"
   ]
  },
  {
   "cell_type": "code",
   "execution_count": 93,
   "id": "d68fc26b-0459-4cd2-8241-143678c246c7",
   "metadata": {},
   "outputs": [],
   "source": [
    "# Average number of units per customer by LIFESTAGE and PREMIUM_CUSTOMER\n",
    "\n",
    "avg_units = data.groupby(['LIFESTAGE', 'PREMIUM_CUSTOMER'])['PROD_QTY'].sum() / data.groupby(['LIFESTAGE', 'PREMIUM_CUSTOMER'])['LYLTY_CARD_NBR'].nunique()"
   ]
  },
  {
   "cell_type": "code",
   "execution_count": 101,
   "id": "b675183b-04bc-4cae-8f7a-f392316f3329",
   "metadata": {},
   "outputs": [
    {
     "data": {
      "image/png": "[encoded data removed]",
      "text/plain": [
       "<Figure size 640x480 with 1 Axes>"
      ]
     },
     "metadata": {},
     "output_type": "display_data"
    }
   ],
   "source": [
    "#  Create plot\n",
    "\n",
    "data = pd.DataFrame({'A': ['X', 'X', 'Y', 'Y'], 'B': ['P', 'Q', 'P', 'Q'], 'C': [1, 2, 3, 4]})\n",
    "grouped = data.groupby(['A', 'B'])['C'].sum()\n",
    "\n",
    "t\n",
    "plt.plot(['-'.join(col) for col in grouped.index.values], grouped.values)\n",
    "plt.xlabel('Group Combination')\n",
    "plt.ylabel('Sum of C')\n",
    "plt.title('Sum of C by Group')\n",
    "plt.show()"
   ]
  },
  {
   "cell_type": "code",
   "execution_count": 95,
   "id": "c13f3b07-cf26-4744-894a-b79ad6a93ae4",
   "metadata": {},
   "outputs": [],
   "source": [
    "#Average number of units per customer by LIFESTAGE and PREMIUM_CUSTOMER\n",
    "avg_price = data.groupby(['LIFESTAGE', 'PREMIUM_CUSTOMER'])['TOT_SALES'].sum() / data.groupby(['LIFESTAGE', 'PREMIUM_CUSTOMER'])['PROD_QTY'].sum()"
   ]
  },
  {
   "cell_type": "code",
   "execution_count": 113,
   "id": "b43da360-5678-4771-88b7-2e7d421b0e0b",
   "metadata": {},
   "outputs": [
    {
     "name": "stdout",
     "output_type": "stream",
     "text": [
      "LIFESTAGE               PREMIUM_CUSTOMER\n",
      "MIDAGE SINGLES/COUPLES  Premium             150\n",
      "RETIREES                Mainstream          200\n",
      "YOUNG SINGLES/COUPLES   Budget              100\n",
      "Name: TOT_SALES, dtype: int64\n"
     ]
    },
    {
     "data": {
      "image/png": "[encoded data removed]",
      "text/plain": [
       "<Figure size 640x480 with 1 Axes>"
      ]
     },
     "metadata": {},
     "output_type": "display_data"
    },
    {
     "name": "stdout",
     "output_type": "stream",
     "text": [
      "Index(['PREMIUM_CUSTOMER', 'LIFESTAGE', 'TOT_SALES'], dtype='object')\n"
     ]
    }
   ],
   "source": [
    "#  Create plot Average Price per Unit by LIFESTAGE and PREMIUM_CUSTOMER\n",
    "\n",
    "\n",
    "df = pd.DataFrame({\n",
    "    'PREMIUM_CUSTOMER': ['Budget', 'Mainstream', 'Premium'],\n",
    "    'LIFESTAGE': ['YOUNG SINGLES/COUPLES', 'RETIREES', 'MIDAGE SINGLES/COUPLES'],\n",
    "    'TOT_SALES': [100, 200, 150]\n",
    "})\n",
    "\n",
    "try:\n",
    "    avg_price = df.groupby(['LIFESTAGE', 'PREMIUM_CUSTOMER'])['TOT_SALES'].sum()\n",
    "    print(avg_price)\n",
    "\n",
    "    # Define x_labels here\n",
    "    x_labels = ['-'.join(map(str, idx)) for idx in avg_price.index]\n",
    "\n",
    "    plt.bar(x_labels, avg_price.values)\n",
    "    plt.xlabel('LIFESTAGE and PREMIUM_CUSTOMER')\n",
    "    plt.ylabel('Average Price per Unit')\n",
    "    plt.title('Average Price per Unit by LIFESTAGE and PREMIUM_CUSTOMER')\n",
    "    plt.xticks(rotation=90)\n",
    "    plt.tight_layout()\n",
    "    plt.show()\n",
    "\n",
    "except KeyError as e:\n",
    "    print(f\"Error: {e}\")\n",
    "\n",
    "print(df.columns)\n"
   ]
  },
  {
   "cell_type": "code",
   "execution_count": null,
   "id": "94884e48-d44f-4bd4-9487-e17cc8fd9ac8",
   "metadata": {},
   "outputs": [],
   "source": []
  },
  {
   "cell_type": "code",
   "execution_count": null,
   "id": "b212626f-f7f0-4bf1-8269-5c741f71ca02",
   "metadata": {},
   "outputs": [],
   "source": []
  },
  {
   "cell_type": "code",
   "execution_count": null,
   "id": "6f4b9a5e-d16e-4a8e-a2ec-1dae83d9f275",
   "metadata": {},
   "outputs": [],
   "source": []
  },
  {
   "cell_type": "code",
   "execution_count": null,
   "id": "b2395e4b-daf5-4855-ab34-62ccfbf6e896",
   "metadata": {},
   "outputs": [],
   "source": []
  },
  {
   "cell_type": "code",
   "execution_count": null,
   "id": "5d9dcfeb-e9be-451f-be3d-b0c1c7131816",
   "metadata": {},
   "outputs": [],
   "source": []
  },
  {
   "cell_type": "code",
   "execution_count": null,
   "id": "9e0d9af1-292a-48d4-8864-e4c8c2894d92",
   "metadata": {},
   "outputs": [],
   "source": []
  },
  {
   "cell_type": "code",
   "execution_count": null,
   "id": "68b49e93-4b93-4c05-84e8-e013dfa1b0af",
   "metadata": {},
   "outputs": [],
   "source": []
  },
  {
   "cell_type": "code",
   "execution_count": null,
   "id": "32b93e4f-f2f4-4831-8cc6-ad393010e004",
   "metadata": {},
   "outputs": [],
   "source": []
  },
  {
   "cell_type": "code",
   "execution_count": null,
   "id": "87f9b01b-2fa0-44c2-9337-197f5d405f75",
   "metadata": {},
   "outputs": [],
   "source": []
  },
  {
   "cell_type": "code",
   "execution_count": null,
   "id": "bbcaa450-c327-4dc1-a823-c3f6fad6cc5b",
   "metadata": {},
   "outputs": [],
   "source": []
  },
  {
   "cell_type": "code",
   "execution_count": null,
   "id": "c97b60f8-f832-41a7-8aaf-65168c5d4771",
   "metadata": {},
   "outputs": [],
   "source": []
  },
  {
   "cell_type": "code",
   "execution_count": null,
   "id": "b45ed5f4-1a20-4277-9fe7-9734ecfae6c6",
   "metadata": {},
   "outputs": [],
   "source": []
  },
  {
   "cell_type": "code",
   "execution_count": null,
   "id": "3a02461a-bf33-4d51-8726-bb5763b67684",
   "metadata": {},
   "outputs": [],
   "source": []
  },
  {
   "cell_type": "code",
   "execution_count": null,
   "id": "d4b73163-b343-4b01-a632-5a632a9ebcce",
   "metadata": {},
   "outputs": [],
   "source": []
  },
  {
   "cell_type": "code",
   "execution_count": null,
   "id": "87d9d5a5-0f13-4cf2-a24b-a37edd6947ec",
   "metadata": {},
   "outputs": [],
   "source": []
  },
  {
   "cell_type": "code",
   "execution_count": null,
   "id": "8985e5ac-68ba-4823-919e-7ef910a8c6ed",
   "metadata": {},
   "outputs": [],
   "source": []
  },
  {
   "cell_type": "code",
   "execution_count": null,
   "id": "3dbba415-cc5f-4db4-bdad-81accb79ebdc",
   "metadata": {},
   "outputs": [],
   "source": []
  },
  {
   "cell_type": "code",
   "execution_count": null,
   "id": "98e6f7c8-e870-428c-b685-d79070ac1778",
   "metadata": {},
   "outputs": [],
   "source": []
  },
  {
   "cell_type": "code",
   "execution_count": null,
   "id": "22541f6e-096c-4c1e-97b7-4889267770c1",
   "metadata": {},
   "outputs": [],
   "source": []
  },
  {
   "cell_type": "code",
   "execution_count": null,
   "id": "423819e6-d88e-49b5-95b7-87b349ee9e1b",
   "metadata": {},
   "outputs": [],
   "source": []
  },
  {
   "cell_type": "code",
   "execution_count": null,
   "id": "f0caa79d-e863-4e51-bf1e-0634517a5360",
   "metadata": {},
   "outputs": [],
   "source": []
  },
  {
   "cell_type": "code",
   "execution_count": null,
   "id": "4cdfb9d2-a641-4ad2-a7cf-b2fc67d1a592",
   "metadata": {},
   "outputs": [],
   "source": []
  },
  {
   "cell_type": "code",
   "execution_count": null,
   "id": "93b60446-c1cd-47ac-841a-16609e7a6f57",
   "metadata": {},
   "outputs": [],
   "source": []
  },
  {
   "cell_type": "code",
   "execution_count": null,
   "id": "92994d1b-42d2-4ad6-b65f-71d21454f765",
   "metadata": {},
   "outputs": [],
   "source": []
  },
  {
   "cell_type": "code",
   "execution_count": null,
   "id": "c346dd5e-8838-464c-8661-37d39ac29bca",
   "metadata": {},
   "outputs": [],
   "source": []
  },
  {
   "cell_type": "code",
   "execution_count": null,
   "id": "c214c02e-ead7-4733-9159-5adcd94a38a9",
   "metadata": {},
   "outputs": [],
   "source": []
  },
  {
   "cell_type": "code",
   "execution_count": null,
   "id": "f9990e88-7d53-4823-810f-bbd11f10cb97",
   "metadata": {},
   "outputs": [],
   "source": []
  },
  {
   "cell_type": "code",
   "execution_count": null,
   "id": "da99482b-49fd-4994-89e7-fa08a1cb3521",
   "metadata": {},
   "outputs": [],
   "source": []
  },
  {
   "cell_type": "code",
   "execution_count": null,
   "id": "baea2e64-691f-4f54-943d-64245f22747d",
   "metadata": {},
   "outputs": [],
   "source": []
  },
  {
   "cell_type": "code",
   "execution_count": null,
   "id": "78fd001d-d296-45c7-9750-2d0c6dd287b8",
   "metadata": {},
   "outputs": [],
   "source": []
  },
  {
   "cell_type": "code",
   "execution_count": null,
   "id": "c7bbc827-a858-434c-8790-0b3436f470f0",
   "metadata": {},
   "outputs": [],
   "source": []
  },
  {
   "cell_type": "code",
   "execution_count": null,
   "id": "4672bb24-4099-404d-8736-2e6500766e59",
   "metadata": {},
   "outputs": [],
   "source": []
  },
  {
   "cell_type": "code",
   "execution_count": null,
   "id": "8ebbbcc2-ca45-429c-9e3c-708181dd2fc8",
   "metadata": {},
   "outputs": [],
   "source": []
  },
  {
   "cell_type": "code",
   "execution_count": null,
   "id": "9f316c50-7caa-4b08-8d60-bc2d08138841",
   "metadata": {},
   "outputs": [],
   "source": []
  },
  {
   "cell_type": "code",
   "execution_count": null,
   "id": "da918fcb-d197-45b8-b089-8a89e92f8f32",
   "metadata": {},
   "outputs": [],
   "source": []
  },
  {
   "cell_type": "code",
   "execution_count": null,
   "id": "cd47e7a7-b9f1-49ae-85ad-56f1922f96c4",
   "metadata": {},
   "outputs": [],
   "source": []
  },
  {
   "cell_type": "code",
   "execution_count": null,
   "id": "9d181488-2014-4ba6-bae0-efdcc97a7d8a",
   "metadata": {},
   "outputs": [],
   "source": []
  },
  {
   "cell_type": "code",
   "execution_count": null,
   "id": "c8f7d4c0-a248-4e36-a23b-b435728ea0b2",
   "metadata": {},
   "outputs": [],
   "source": []
  },
  {
   "cell_type": "code",
   "execution_count": null,
   "id": "790ad2d5-8014-4553-b798-2e725a0023a1",
   "metadata": {},
   "outputs": [],
   "source": []
  },
  {
   "cell_type": "code",
   "execution_count": null,
   "id": "c372cc29-a4ef-4a59-a96c-77ee5e5f4246",
   "metadata": {},
   "outputs": [],
   "source": []
  },
  {
   "cell_type": "code",
   "execution_count": null,
   "id": "a5558f09-b4f5-4a66-ad37-9065c651f0a7",
   "metadata": {},
   "outputs": [],
   "source": []
  },
  {
   "cell_type": "code",
   "execution_count": null,
   "id": "2772575b-ede1-44ca-8d52-abc5c842f06f",
   "metadata": {},
   "outputs": [],
   "source": []
  },
  {
   "cell_type": "code",
   "execution_count": null,
   "id": "c16ff9ea-2b24-47b3-be9e-85c2edbcc702",
   "metadata": {},
   "outputs": [],
   "source": []
  },
  {
   "cell_type": "code",
   "execution_count": null,
   "id": "0f7dbe5c-a93f-4927-b4a1-bd0487b3ea88",
   "metadata": {},
   "outputs": [],
   "source": []
  },
  {
   "cell_type": "code",
   "execution_count": null,
   "id": "8ab8824f-4531-41a8-bc0c-26e76c1413bc",
   "metadata": {},
   "outputs": [],
   "source": []
  }
 ],
 "metadata": {
  "kernelspec": {
   "display_name": "Python 3 (ipykernel)",
   "language": "python",
   "name": "python3"
  },
  "language_info": {
   "codemirror_mode": {
    "name": "ipython",
    "version": 3
   },
   "file_extension": ".py",
   "mimetype": "text/x-python",
   "name": "python",
   "nbconvert_exporter": "python",
   "pygments_lexer": "ipython3",
   "version": "3.12.7"
  }
 },
 "nbformat": 4,
 "nbformat_minor": 5
}
